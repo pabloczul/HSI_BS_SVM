{
 "cells": [
  {
   "cell_type": "markdown",
   "id": "399a63c1",
   "metadata": {},
   "source": []
  },
  {
   "cell_type": "code",
   "execution_count": 1,
   "id": "85a76f3b",
   "metadata": {},
   "outputs": [],
   "source": [
    "import pandas as pd\n",
    "import time\n",
    "import numpy as np\n",
    "import seaborn as sn\n",
    "import matplotlib.pyplot as plt\n",
    "from scipy.io import loadmat\n",
    "from sklearn import svm\n",
    "from sklearn.model_selection import train_test_split\n",
    "from sklearn import metrics"
   ]
  },
  {
   "cell_type": "code",
   "execution_count": 2,
   "id": "773f4cc6",
   "metadata": {},
   "outputs": [],
   "source": [
    "def read_indianPines():\n",
    "    Indian_X = loadmat('Indian_pines_corrected.mat')['indian_pines_corrected']\n",
    "    Indian_Y = loadmat('Indian_pines_gt.mat')['indian_pines_gt']\n",
    "    #print(f\"X shape: {X.shape}\\ny shape: {y.shape}\")\n",
    "    return Indian_X, Indian_Y    "
   ]
  },
  {
   "cell_type": "code",
   "execution_count": 3,
   "id": "f9726103",
   "metadata": {},
   "outputs": [],
   "source": [
    "def bands_separation(bands, datasetX, datasetY):\n",
    "    \n",
    "    #Read data\n",
    "    data_X = datasetX\n",
    "    data_Y = datasetY\n",
    "    \n",
    "    data_X_selected = data_X[:,:,bands]\n",
    "\n",
    "    print(data_X_selected.shape)\n",
    "\n",
    "    #data dimensions\n",
    "    x, y, z = data_X_selected.shape\n",
    "\n",
    "    #reshapes arrays to have all data of each matrix into vectors\n",
    "    data_X2d = data_X_selected.reshape((x * y, z))\n",
    "    data_Y2d = data_Y.reshape((x * y, 1))"
   ]
  },
  {
   "cell_type": "code",
   "execution_count": 4,
   "id": "89743e20",
   "metadata": {},
   "outputs": [],
   "source": [
    "def extract_pixels(X, y):\n",
    "    q = X.reshape(-1, X.shape[2])\n",
    "    df = pd.DataFrame(data = q)\n",
    "    df = pd.concat([df, pd.DataFrame(data = y.ravel())], axis=1)\n",
    "    df.columns= [f'band{i}' for i in range(1, 1+X.shape[2])]+['class']\n",
    "    #df.to_csv('Dataset.csv')\n",
    "    return df"
   ]
  },
  {
   "cell_type": "code",
   "execution_count": 9,
   "id": "1c0e3520",
   "metadata": {},
   "outputs": [],
   "source": [
    "#Reading data from HBS algorithms\n",
    "def HBS_bands():\n",
    "    bands_FDPC = loadmat('SelectedBandsOCF.mat')['band_FDPC']\n",
    "\n",
    "    bands_NC_IE = loadmat('SelectedBandsOCF.mat')['band_NC_IE']\n",
    "\n",
    "    bands_simil = loadmat('SelectedSBS.mat')['bands_simil']\n",
    "\n",
    "    bands_svd = loadmat('SelectedSBS.mat')['bands_svd']\n",
    "\n",
    "    bands_EGCSR = np.load(\"bands_EGCSR.npy\").astype(int) + 1\n",
    "    \n",
    "    bands_bombs = np.load(\"bands_bombs.npy\").astype(int)\n",
    "\n",
    "    #nonzeroind = np.nonzero(bands_svd)[0] # the return is a little funny so I use the [0]\n",
    "    #print(nonzeroind)\n",
    "\n",
    "\n",
    "    bands = {\n",
    "        \"FDPC\" : bands_FDPC,\n",
    "        \"NC_IR\" : bands_NC_IE,\n",
    "        \"simil\" : bands_simil,\n",
    "        \"svd\" : bands_svd,\n",
    "        \"EGCSR\" : bands_EGCSR,\n",
    "        \"bombs\": bands_bombs\n",
    "    }\n",
    "    \n",
    "    return bands\n",
    "    \n",
    "\n",
    "#for k in bands:        \n",
    "#    x,y = bands[k].shape\n",
    "    \n",
    "#    for i in range(x):\n",
    "        \n",
    "#        print(k, \"selection for: \", (i+1)*8,\" bands is: \", bands[k][i,:(i+1)*8],\"\\n\")\n"
   ]
  },
  {
   "cell_type": "code",
   "execution_count": 10,
   "id": "42e9d01a",
   "metadata": {},
   "outputs": [],
   "source": [
    "#MAIN 2\n",
    "def HBS_classif(X_Itrain, y_Itrain, X_Itest):\n",
    "    #Creates Svm Clasiffier\n",
    "    indian_classifier = svm.SVC(C = 120, kernel = 'rbf', cache_size = 10*1024)\n",
    "\n",
    "    #Train the model using the training sets\n",
    "    indian_classifier.fit(X_Itrain, y_Itrain.ravel())\n",
    "\n",
    "    #Prediction of test set using trained model\n",
    "    indian_pred = indian_classifier.predict(X_Itest)\n",
    "    \n",
    "    return indian_pred"
   ]
  },
  {
   "cell_type": "code",
   "execution_count": 11,
   "id": "26a358cc",
   "metadata": {},
   "outputs": [
    {
     "name": "stdout",
     "output_type": "stream",
     "text": [
      "Processing:  FDPC 8\n",
      "Processing:  FDPC 16\n",
      "Processing:  FDPC 24\n",
      "Processing:  FDPC 32\n",
      "Processing:  NC_IR 8\n",
      "Processing:  NC_IR 16\n",
      "Processing:  NC_IR 24\n",
      "Processing:  NC_IR 32\n",
      "Processing:  simil 8\n",
      "Processing:  simil 16\n",
      "Processing:  simil 24\n",
      "Processing:  simil 32\n",
      "Processing:  svd 8\n",
      "Processing:  svd 16\n",
      "Processing:  svd 24\n",
      "Processing:  svd 32\n",
      "Processing:  EGCSR 8\n",
      "Processing:  EGCSR 16\n",
      "Processing:  EGCSR 24\n",
      "Processing:  EGCSR 32\n",
      "Processing:  bombs 8\n",
      "Processing:  bombs 16\n",
      "Processing:  bombs 24\n",
      "Processing:  bombs 32\n"
     ]
    }
   ],
   "source": [
    "#MAIN \n",
    "\n",
    "#Reads selected number of bands for different algorithms into a dictionary\n",
    "bands = HBS_bands()\n",
    "\n",
    "HBS_predictions = {}\n",
    "\n",
    "HBS_accuracy = {}\n",
    "\n",
    "#name of classes for indian pines\n",
    "names = ['Alfalfa','Corn-notill', 'Corn-mintill','Corn','Grass-pasture','Grass-trees',\n",
    "'Grass-pasture-mowed','Hay-windrowed','Oats','Soybean-notill','Soybean-mintill',\n",
    "'Soybean-clean', 'Wheat','Woods','Buildings Grass Trees Drives','Stone Steel Towers'] \n",
    "    \n",
    "#Iterates over bands sets \n",
    "for k in bands:        \n",
    "    x,y = bands[k].shape\n",
    "    \n",
    "    for i in range(x):\n",
    "        \n",
    "        b_count = (i+1)*8\n",
    "        \n",
    "        #reads indian dataset\n",
    "        indian_X,indian_Y = read_indianPines()\n",
    "        #takes selected bands from indian dataset\n",
    "        indian_X_selected = indian_X[:,:,bands[k][i,:b_count]-1]\n",
    "\n",
    "        #print for confirmation\n",
    "        print(\"Processing: \", k, b_count)\n",
    "\n",
    "        #data dimensions\n",
    "        x, y, b = indian_X_selected.shape\n",
    "        \n",
    "        ####data to pandas dataframe\n",
    "        data_indian = extract_pixels(indian_X_selected, indian_Y)\n",
    "\n",
    "        #cleaning data\n",
    "        data_x = data_indian[data_indian['class'] != 0]\n",
    "        indian_X2d = data_x.iloc[:, :-1].values\n",
    "        indian_Y2d = data_x.loc[:, 'class'].values \n",
    "\n",
    "        # Split dataset into training set and test set\n",
    "        X_train, X_test, y_train, y_test = train_test_split(indian_X2d, indian_Y2d,\n",
    "                                                            test_size=0.7, random_state=11, stratify=indian_Y2d)\n",
    "        \n",
    "        #Creates Svm Clasiffier\n",
    "        indian_classifier = svm.SVC(C = 120, kernel = 'rbf', cache_size = 10*1024)\n",
    "\n",
    "        #Train the model using the training sets\n",
    "        indian_classifier.fit(X_train, y_train.ravel())\n",
    "\n",
    "        #Prediction of test set using trained model\n",
    "        HBS_predictions[str(k) + \"_pred_\" + str(b_count)] = indian_classifier.predict(X_test)   \n",
    "        \n",
    "        for n in HBS_predictions:        \n",
    "    \n",
    "            accuracy = metrics.accuracy_score(y_test, HBS_predictions[n])\n",
    "            \n",
    "            HBS_accuracy[str(k) + \"_acc_\" + str(b_count)] = accuracy\n",
    "   "
   ]
  },
  {
   "cell_type": "code",
   "execution_count": 13,
   "id": "92bc902d",
   "metadata": {},
   "outputs": [
    {
     "name": "stdout",
     "output_type": "stream",
     "text": [
      "FDPC_acc_8  accuracy is  0.7245993031358885\n",
      "FDPC_acc_16  accuracy is  0.74801393728223\n",
      "FDPC_acc_24  accuracy is  0.7598606271777003\n",
      "FDPC_acc_32  accuracy is  0.7593031358885017\n",
      "NC_IR_acc_8  accuracy is  0.7421602787456446\n",
      "NC_IR_acc_16  accuracy is  0.7453658536585366\n",
      "NC_IR_acc_24  accuracy is  0.7701742160278746\n",
      "NC_IR_acc_32  accuracy is  0.7820209059233449\n",
      "simil_acc_8  accuracy is  0.7275261324041812\n",
      "simil_acc_16  accuracy is  0.7774216027874564\n",
      "simil_acc_24  accuracy is  0.7859233449477352\n",
      "simil_acc_32  accuracy is  0.787595818815331\n",
      "svd_acc_8  accuracy is  0.7193031358885017\n",
      "svd_acc_16  accuracy is  0.7892682926829269\n",
      "svd_acc_24  accuracy is  0.7998606271777003\n",
      "svd_acc_32  accuracy is  0.802787456445993\n",
      "EGCSR_acc_8  accuracy is  0.6316376306620209\n",
      "EGCSR_acc_16  accuracy is  0.7432752613240418\n",
      "EGCSR_acc_24  accuracy is  0.7347735191637631\n",
      "EGCSR_acc_32  accuracy is  0.7554006968641115\n",
      "bombs_acc_8  accuracy is  0.5368641114982579\n",
      "bombs_acc_16  accuracy is  0.6893379790940767\n",
      "bombs_acc_24  accuracy is  0.6508710801393728\n",
      "bombs_acc_32  accuracy is  0.7705923344947735\n"
     ]
    }
   ],
   "source": [
    "###Classification results\n",
    "\n",
    "for a in HBS_accuracy:     \n",
    "    \n",
    "    print(a, \" accuracy is \" ,HBS_accuracy[a])\n",
    "    \n",
    "np.save(\"HBS_predictions\", HBS_predictions)\n",
    "np.save(\"HBS_accuracy\", HBS_accuracy)"
   ]
  },
  {
   "cell_type": "code",
   "execution_count": 16,
   "id": "f7b280c7",
   "metadata": {},
   "outputs": [
    {
     "data": {
      "text/plain": [
       "<matplotlib.legend.Legend at 0x29f8c8cdec8>"
      ]
     },
     "execution_count": 16,
     "metadata": {},
     "output_type": "execute_result"
    },
    {
     "data": {
      "image/png": "[encoded data removed]",
      "text/plain": [
       "<Figure size 432x288 with 1 Axes>"
      ]
     },
     "metadata": {
      "needs_background": "light"
     },
     "output_type": "display_data"
    }
   ],
   "source": [
    "x = np.array([8,16,24,32])\n",
    "\n",
    "a = np.zeros(4)\n",
    "b = np.zeros(4)\n",
    "c = np.zeros(4)\n",
    "d = np.zeros(4)\n",
    "e = np.zeros(4)\n",
    "f = np.zeros(4)\n",
    "\n",
    "for i in range(4):\n",
    "    \n",
    "    b_count = (i+1)*8\n",
    "    \n",
    "    a[i] = HBS_accuracy[\"FDPC_acc_\" + str(b_count)]\n",
    "    b[i] = HBS_accuracy[\"NC_IR_acc_\" + str(b_count)]\n",
    "    c[i] = HBS_accuracy[\"simil_acc_\" + str(b_count)]\n",
    "    d[i] = HBS_accuracy[\"svd_acc_\" + str(b_count)]\n",
    "    e[i] = HBS_accuracy[\"EGCSR_acc_\" + str(b_count)]\n",
    "    f[i] = HBS_accuracy[\"bombs_acc_\" + str(b_count)]\n",
    "    \n",
    "    \n",
    "plt.plot(x, a, label='FDPC')  \n",
    "plt.plot(x, b, label='NC IR')  \n",
    "plt.plot(x, c, label='Simil')\n",
    "plt.plot(x, d, label='svd') \n",
    "plt.plot(x, e, label='EGCSR') \n",
    "plt.plot(x, f, label='Bombs')\n",
    "\n",
    "plt.xlabel('Bands')\n",
    "plt.ylabel('Accuracy')\n",
    "plt.title(\"HBS SVM\")\n",
    "plt.legend()"
   ]
  },
  {
   "cell_type": "code",
   "execution_count": null,
   "id": "e12249ec",
   "metadata": {},
   "outputs": [],
   "source": [
    "#Classification visualization\n",
    "\n",
    "#name of classes\n",
    "names = ['Alfalfa','Corn-notill', 'Corn-mintill','Corn','Grass-pasture','Grass-trees',\n",
    "'Grass-pasture-mowed','Hay-windrowed','Oats','Soybean-notill','Soybean-mintill',\n",
    "'Soybean-clean', 'Wheat','Woods','Buildings Grass Trees Drives','Stone Steel Towers']\n",
    "\n",
    "#creation of dataframe for results visualization using confusion matrix\n",
    "indian_confusion = metrics.confusion_matrix(y_Itest, indian_pred)\n",
    "df_I = pd.DataFrame(indian_confusion, columns=np.array(names), index = np.array(names))\n",
    "df_I.index.name = 'Real'\n",
    "df_I.columns.name = 'Predicted'\n",
    "\n",
    "#Figure properties \n",
    "plt.figure(figsize = (10,8))\n",
    "sn.set(font_scale=1.4)#for label size\n",
    "\n",
    "#figure ploting\n",
    "sn.heatmap(df_I, cmap=\"Reds\", annot=True,annot_kws={\"size\": 16}, fmt='d')\n",
    "\n",
    "#classification report\n",
    "print(metrics.classification_report(y_Itest, indian_pred, target_names = names))"
   ]
  },
  {
   "cell_type": "code",
   "execution_count": null,
   "id": "e54d9e7c",
   "metadata": {},
   "outputs": [],
   "source": [
    "#Classification map prediction\n",
    "\n",
    "l=[]\n",
    "for i in range(data_indian.shape[0]):\n",
    "    #this if statement ignore class 0 for the classification. Coloring it black in image.\n",
    "    if data_indian.iloc[i, -1] == 0:\n",
    "        l.append(0)\n",
    "    else:\n",
    "        l.append(indian_classifier.predict(data_indian.iloc[i, :-1].values.reshape(1, -1)))"
   ]
  },
  {
   "cell_type": "code",
   "execution_count": null,
   "id": "bfa912b5",
   "metadata": {},
   "outputs": [],
   "source": [
    "#Classification map visualization\n",
    "clmap = np.array(l).reshape(145, 145).astype('float')\n",
    "plt.figure(figsize=(10, 8))\n",
    "plt.imshow(clmap, cmap='nipy_spectral')\n",
    "plt.colorbar()\n",
    "plt.axis('off')\n",
    "plt.savefig('IP_cmap.png')\n",
    "plt.show()"
   ]
  }
 ],
 "metadata": {
  "kernelspec": {
   "display_name": "Python 3",
   "language": "python",
   "name": "python3"
  },
  "language_info": {
   "codemirror_mode": {
    "name": "ipython",
    "version": 3
   },
   "file_extension": ".py",
   "mimetype": "text/x-python",
   "name": "python",
   "nbconvert_exporter": "python",
   "pygments_lexer": "ipython3",
   "version": "3.7.10"
  }
 },
 "nbformat": 4,
 "nbformat_minor": 5
}
